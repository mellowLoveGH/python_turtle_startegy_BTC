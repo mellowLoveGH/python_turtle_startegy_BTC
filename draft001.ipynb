{
  "nbformat": 4,
  "nbformat_minor": 0,
  "metadata": {
    "colab": {
      "name": "draft001.ipynb",
      "provenance": [],
      "collapsed_sections": []
    },
    "kernelspec": {
      "name": "python3",
      "display_name": "Python 3"
    },
    "language_info": {
      "name": "python"
    }
  },
  "cells": [
    {
      "cell_type": "code",
      "metadata": {
        "colab": {
          "base_uri": "https://localhost:8080/"
        },
        "id": "U7b7FQi1i-ii",
        "outputId": "204f8f80-a496-4bbd-8454-62eac8808229"
      },
      "source": [
        "import time\n",
        "!pip install ccxt\n",
        "import ccxt\n",
        "from time import gmtime, strftime\n",
        "import datetime\n",
        "import pandas as pd\n",
        "print(ccxt.exchanges)"
      ],
      "execution_count": 1,
      "outputs": [
        {
          "output_type": "stream",
          "text": [
            "Collecting ccxt\n",
            "\u001b[?25l  Downloading https://files.pythonhosted.org/packages/ca/50/06a6dd6fe7cf4ceaeaeee20fa9c0b1dc1fd2e0502ad48a19992c1962f3ab/ccxt-1.48.41-py2.py3-none-any.whl (2.1MB)\n",
            "\u001b[K     |████████████████████████████████| 2.1MB 12.1MB/s \n",
            "\u001b[?25hRequirement already satisfied: requests>=2.18.4 in /usr/local/lib/python3.7/dist-packages (from ccxt) (2.23.0)\n",
            "Collecting aiohttp<3.8,>=3.7.4; python_version >= \"3.5.2\"\n",
            "\u001b[?25l  Downloading https://files.pythonhosted.org/packages/88/c0/5890b4c8b04a79b7360e8fe4490feb0bb3ab179743f199f0e6220cebd568/aiohttp-3.7.4.post0-cp37-cp37m-manylinux2014_x86_64.whl (1.3MB)\n",
            "\u001b[K     |████████████████████████████████| 1.3MB 46.5MB/s \n",
            "\u001b[?25hRequirement already satisfied: setuptools>=38.5.1 in /usr/local/lib/python3.7/dist-packages (from ccxt) (56.0.0)\n",
            "Collecting aiodns<2.1,>=1.1.1; python_version >= \"3.5.2\"\n",
            "  Downloading https://files.pythonhosted.org/packages/da/01/8f2d49b441573fd2478833bdba91cf0b853b4c750a1fbb9e98de1b94bb22/aiodns-2.0.0-py2.py3-none-any.whl\n",
            "Collecting yarl==1.1.0; python_version >= \"3.5.2\"\n",
            "\u001b[?25l  Downloading https://files.pythonhosted.org/packages/a3/08/05b2d731ef5163b3bcb993f569c4d2b303642f7ee3cbdea373f59e4bd42a/yarl-1.1.0.tar.gz (156kB)\n",
            "\u001b[K     |████████████████████████████████| 163kB 48.7MB/s \n",
            "\u001b[?25hRequirement already satisfied: certifi>=2018.1.18 in /usr/local/lib/python3.7/dist-packages (from ccxt) (2020.12.5)\n",
            "Collecting cryptography>=2.6.1\n",
            "\u001b[?25l  Downloading https://files.pythonhosted.org/packages/b2/26/7af637e6a7e87258b963f1731c5982fb31cd507f0d90d91836e446955d02/cryptography-3.4.7-cp36-abi3-manylinux2014_x86_64.whl (3.2MB)\n",
            "\u001b[K     |████████████████████████████████| 3.2MB 44.3MB/s \n",
            "\u001b[?25hRequirement already satisfied: idna<3,>=2.5 in /usr/local/lib/python3.7/dist-packages (from requests>=2.18.4->ccxt) (2.10)\n",
            "Requirement already satisfied: chardet<4,>=3.0.2 in /usr/local/lib/python3.7/dist-packages (from requests>=2.18.4->ccxt) (3.0.4)\n",
            "Requirement already satisfied: urllib3!=1.25.0,!=1.25.1,<1.26,>=1.21.1 in /usr/local/lib/python3.7/dist-packages (from requests>=2.18.4->ccxt) (1.24.3)\n",
            "Collecting multidict<7.0,>=4.5\n",
            "\u001b[?25l  Downloading https://files.pythonhosted.org/packages/7c/a6/4123b8165acbe773d1a8dc8e3f0d1edea16d29f7de018eda769abb56bd30/multidict-5.1.0-cp37-cp37m-manylinux2014_x86_64.whl (142kB)\n",
            "\u001b[K     |████████████████████████████████| 143kB 49.1MB/s \n",
            "\u001b[?25hRequirement already satisfied: typing-extensions>=3.6.5 in /usr/local/lib/python3.7/dist-packages (from aiohttp<3.8,>=3.7.4; python_version >= \"3.5.2\"->ccxt) (3.7.4.3)\n",
            "Requirement already satisfied: attrs>=17.3.0 in /usr/local/lib/python3.7/dist-packages (from aiohttp<3.8,>=3.7.4; python_version >= \"3.5.2\"->ccxt) (20.3.0)\n",
            "Collecting async-timeout<4.0,>=3.0\n",
            "  Downloading https://files.pythonhosted.org/packages/e1/1e/5a4441be21b0726c4464f3f23c8b19628372f606755a9d2e46c187e65ec4/async_timeout-3.0.1-py3-none-any.whl\n",
            "Collecting pycares>=3.0.0\n",
            "\u001b[?25l  Downloading https://files.pythonhosted.org/packages/d3/ea/6367930636a9859cc9ea8cb738a3e0c4f9929c596806214d5df4c48565db/pycares-3.1.1-cp37-cp37m-manylinux2010_x86_64.whl (228kB)\n",
            "\u001b[K     |████████████████████████████████| 235kB 41.3MB/s \n",
            "\u001b[?25hRequirement already satisfied: cffi>=1.12 in /usr/local/lib/python3.7/dist-packages (from cryptography>=2.6.1->ccxt) (1.14.5)\n",
            "Requirement already satisfied: pycparser in /usr/local/lib/python3.7/dist-packages (from cffi>=1.12->cryptography>=2.6.1->ccxt) (2.20)\n",
            "Building wheels for collected packages: yarl\n",
            "  Building wheel for yarl (setup.py) ... \u001b[?25l\u001b[?25hdone\n",
            "  Created wheel for yarl: filename=yarl-1.1.0-cp37-cp37m-linux_x86_64.whl size=241454 sha256=edd937b00fdd2fa8289014085abd9600abee696c1423ecf0a04ef6421de61322\n",
            "  Stored in directory: /root/.cache/pip/wheels/96/26/b9/7972042a1a69556ba7f38b8a301dc3a9ddac1b8f61f02fbfd8\n",
            "Successfully built yarl\n",
            "Installing collected packages: multidict, yarl, async-timeout, aiohttp, pycares, aiodns, cryptography, ccxt\n",
            "Successfully installed aiodns-2.0.0 aiohttp-3.7.4.post0 async-timeout-3.0.1 ccxt-1.48.41 cryptography-3.4.7 multidict-5.1.0 pycares-3.1.1 yarl-1.1.0\n",
            "['aax', 'aofex', 'ascendex', 'bequant', 'bibox', 'bigone', 'binance', 'binanceus', 'bit2c', 'bitbank', 'bitbay', 'bitcoincom', 'bitfinex', 'bitfinex2', 'bitflyer', 'bitforex', 'bitget', 'bithumb', 'bitkk', 'bitmart', 'bitmex', 'bitpanda', 'bitso', 'bitstamp', 'bitstamp1', 'bittrex', 'bitvavo', 'bitz', 'bl3p', 'bleutrade', 'braziliex', 'btcalpha', 'btcbox', 'btcmarkets', 'btctradeua', 'btcturk', 'buda', 'bw', 'bybit', 'bytetrade', 'cdax', 'cex', 'coinbase', 'coinbaseprime', 'coinbasepro', 'coincheck', 'coinegg', 'coinex', 'coinfalcon', 'coinfloor', 'coingi', 'coinmarketcap', 'coinmate', 'coinone', 'coinspot', 'crex24', 'currencycom', 'delta', 'deribit', 'digifinex', 'equos', 'eterbase', 'exmo', 'exx', 'fcoin', 'fcoinjp', 'flowbtc', 'foxbit', 'ftx', 'gateio', 'gemini', 'gopax', 'hbtc', 'hitbtc', 'hollaex', 'huobijp', 'huobipro', 'idex', 'independentreserve', 'indodax', 'itbit', 'kraken', 'kucoin', 'kuna', 'lakebtc', 'latoken', 'lbank', 'liquid', 'luno', 'lykke', 'mercado', 'mixcoins', 'ndax', 'novadax', 'oceanex', 'okcoin', 'okex', 'paymium', 'phemex', 'poloniex', 'probit', 'qtrade', 'rightbtc', 'ripio', 'southxchange', 'stex', 'surbitcoin', 'therock', 'tidebit', 'tidex', 'timex', 'upbit', 'vbtc', 'vcc', 'wavesexchange', 'whitebit', 'xbtce', 'xena', 'yobit', 'zaif', 'zb']\n"
          ],
          "name": "stdout"
        }
      ]
    },
    {
      "cell_type": "code",
      "metadata": {
        "id": "qnXYUz-dYFZr"
      },
      "source": [
        "# We define a function to get the bar from one currency to another. \n",
        "# We get at most 3000 data each time due to the exchange's transmision length limitation.\n",
        "def get_bar_from_to(ex,symbol,period,start_time='2017-08-17 00:00:00',end_time='2021-03-05 23:59:59',length=30000,maxLoop=20):\n",
        "  data = []\n",
        "  stime = ex.parse8601(start_time) # ISO8601 is the format of time\n",
        "  etime = ex.parse8601(end_time)\n",
        "  loop_i = 0\n",
        "  if ex.has['fetchOHLCV']:\n",
        "    while stime < etime and loop_i < maxLoop:\n",
        "      loop_i += 1\n",
        "      try:\n",
        "        ohlcvs = ex.fetch_ohlcv(symbol, period, stime, limit=length)\n",
        "        #print(ex.iso8601(ex.milliseconds()),'loop_i=',loop_i, ' ,Fetched', len(ohlcvs), 'candles')\n",
        "        if len(ohlcvs) > 1:\n",
        "          first = ohlcvs[0][0]\n",
        "          last = ohlcvs[-1][0]\n",
        "          #print('[',ex.iso8601(first),'--', ex.iso8601(last),']')\n",
        "          stime = int(last+ (last - first)/(len(ohlcvs)-1))\n",
        "          data += ohlcvs\n",
        "          time.sleep(1)\n",
        "        else:\n",
        "          return data\n",
        "      except Exception as e:\n",
        "        print(str(e))\n",
        "  return data\n",
        "\n",
        "from datetime import datetime\n",
        "\n",
        "# format data as dataframe of pandas\n",
        "# USDT: started from 2015-02-25\n",
        "# BTC: started from 2014-09-17\n",
        "# ETH: started from 2015-08-07\n",
        "# the start time should not be prior to: 2015-08-07\n",
        "# in ccxt, the start time seems not be prior to 2017-08-17\n",
        "# 'BTC/USDT': the earliest is: 2017-08-17\n",
        "# 'ETH/USDT': the earliest is: 2017-08-17\n",
        "# start_time = '2017-08-17 00:00:00'\n",
        "# end_time = '2021-03-05 23:59:59'\n",
        "def getData(exchange, symbol, period, start_time, end_time, cols=['time','open','high','low','close','volume']):\n",
        "  # set the start time\n",
        "  # 就2015-08-07到2021-03-31 -------------- project\n",
        "  \"\"\"start_time = '2015-08-17 00:00:00'\n",
        "  if period == '1d':\n",
        "    start_time = '2017-08-17 00:00:00'\n",
        "  elif period == '1h':\n",
        "    start_time = '2020-01-01 00:00:00'\n",
        "  # set the end time\n",
        "  end_time = '2021-03-31 23:59:59'\"\"\"\n",
        "\n",
        "  data = get_bar_from_to(exchange, symbol, period, start_time, end_time)\n",
        "  test = pd.DataFrame(data, columns=cols)\n",
        "\n",
        "  # get the data before the end_time\n",
        "  etime = exchange.parse8601(end_time)\n",
        "  test = test.loc[ test['time'] <= etime ]\n",
        "  # convert the time format\n",
        "    # method 1\n",
        "    # test['date'] = (test['time']/1000).apply(datetime.fromtimestamp)\n",
        "    # method 2\n",
        "  test['day'] = test['time'].apply(lambda x: exchange.iso8601(x)[:10])\n",
        "  if period == '1h' or period == '1m':\n",
        "    test['hour'] = test['time'].apply(lambda x: exchange.iso8601(x)[:10] + ' ' + exchange.iso8601(x)[11:16])\n",
        "  return test\n",
        "\n",
        "# for a dataframe, get its columns (features)\n",
        "def getCols(df):\n",
        "  cols = []\n",
        "  for col in df:\n",
        "    cols.append(col)\n",
        "  return cols\n",
        "\n",
        "# get the copied data\n",
        "def getCopy(df):\n",
        "  cols = getCols(df)\n",
        "  ti = pd.DataFrame()\n",
        "  if 'hour' in cols: # hourly data\n",
        "    ti = df[ ['day', 'hour', 'close'] ].copy()\n",
        "  else: # daily data\n",
        "    ti = df[ ['day', 'close'] ].copy()\n",
        "  return ti"
      ],
      "execution_count": 60,
      "outputs": []
    },
    {
      "cell_type": "code",
      "metadata": {
        "colab": {
          "base_uri": "https://localhost:8080/"
        },
        "id": "vodRdRptYQiy",
        "outputId": "612ff254-0f71-49ae-e934-147bf8e48d4a"
      },
      "source": [
        "# we set the exchange to binance\n",
        "exchange = ccxt.binance()\n",
        "\n",
        "# daily data\n",
        "btc_day = getData(exchange, 'BTC/USDT', '1d', '2015-08-17 00:00:00', '2021-03-31 23:59:59')\n",
        "eth_day = getData(exchange, 'ETH/USDT', '1d', '2015-08-17 00:00:00', '2021-03-31 23:59:59')\n",
        "\n",
        "# daily data shape:  BTC/USDT (1297, 7), ETH/USDT (1297, 7)\n",
        "print( \"data shape: \", btc_day.shape, eth_day.shape)\n"
      ],
      "execution_count": 15,
      "outputs": [
        {
          "output_type": "stream",
          "text": [
            "data shape:  (1323, 7) (1323, 7)\n",
            "data shape:  (10919, 8) (10919, 8)\n"
          ],
          "name": "stdout"
        }
      ]
    },
    {
      "cell_type": "code",
      "metadata": {
        "colab": {
          "base_uri": "https://localhost:8080/"
        },
        "id": "M5EeTJUKaAhb",
        "outputId": "9292b20b-d4eb-4821-ce61-77c4130c670a"
      },
      "source": [
        "# hourly data\n",
        "st = '2017-08-17 00:00:00'\n",
        "#et = '2021-03-31 23:59:59'\n",
        "et = '2018-03-31 23:59:59'\n",
        "btc_hour = getData(exchange, 'BTC/USDT', '1h', st, et)\n",
        "eth_hour = getData(exchange, 'ETH/USDT', '1h', st, et)\n",
        "\n",
        "print( \"data shape: \", btc_hour.shape, eth_hour.shape)"
      ],
      "execution_count": 46,
      "outputs": [
        {
          "output_type": "stream",
          "text": [
            "data shape:  (5401, 8) (5401, 8)\n"
          ],
          "name": "stdout"
        }
      ]
    },
    {
      "cell_type": "code",
      "metadata": {
        "colab": {
          "base_uri": "https://localhost:8080/",
          "height": 202
        },
        "id": "UVxCy8_6cVJb",
        "outputId": "667f607c-228b-4420-cc05-42b1be58b537"
      },
      "source": [
        "btc_hour.head()"
      ],
      "execution_count": 47,
      "outputs": [
        {
          "output_type": "execute_result",
          "data": {
            "text/html": [
              "<div>\n",
              "<style scoped>\n",
              "    .dataframe tbody tr th:only-of-type {\n",
              "        vertical-align: middle;\n",
              "    }\n",
              "\n",
              "    .dataframe tbody tr th {\n",
              "        vertical-align: top;\n",
              "    }\n",
              "\n",
              "    .dataframe thead th {\n",
              "        text-align: right;\n",
              "    }\n",
              "</style>\n",
              "<table border=\"1\" class=\"dataframe\">\n",
              "  <thead>\n",
              "    <tr style=\"text-align: right;\">\n",
              "      <th></th>\n",
              "      <th>time</th>\n",
              "      <th>open</th>\n",
              "      <th>high</th>\n",
              "      <th>low</th>\n",
              "      <th>close</th>\n",
              "      <th>volume</th>\n",
              "      <th>day</th>\n",
              "      <th>hour</th>\n",
              "    </tr>\n",
              "  </thead>\n",
              "  <tbody>\n",
              "    <tr>\n",
              "      <th>0</th>\n",
              "      <td>1502942400000</td>\n",
              "      <td>4261.48</td>\n",
              "      <td>4313.62</td>\n",
              "      <td>4261.32</td>\n",
              "      <td>4308.83</td>\n",
              "      <td>47.181009</td>\n",
              "      <td>2017-08-17</td>\n",
              "      <td>2017-08-17 04:00</td>\n",
              "    </tr>\n",
              "    <tr>\n",
              "      <th>1</th>\n",
              "      <td>1502946000000</td>\n",
              "      <td>4308.83</td>\n",
              "      <td>4328.69</td>\n",
              "      <td>4291.37</td>\n",
              "      <td>4315.32</td>\n",
              "      <td>23.234916</td>\n",
              "      <td>2017-08-17</td>\n",
              "      <td>2017-08-17 05:00</td>\n",
              "    </tr>\n",
              "    <tr>\n",
              "      <th>2</th>\n",
              "      <td>1502949600000</td>\n",
              "      <td>4330.29</td>\n",
              "      <td>4345.45</td>\n",
              "      <td>4309.37</td>\n",
              "      <td>4324.35</td>\n",
              "      <td>7.229691</td>\n",
              "      <td>2017-08-17</td>\n",
              "      <td>2017-08-17 06:00</td>\n",
              "    </tr>\n",
              "    <tr>\n",
              "      <th>3</th>\n",
              "      <td>1502953200000</td>\n",
              "      <td>4316.62</td>\n",
              "      <td>4349.99</td>\n",
              "      <td>4287.41</td>\n",
              "      <td>4349.99</td>\n",
              "      <td>4.443249</td>\n",
              "      <td>2017-08-17</td>\n",
              "      <td>2017-08-17 07:00</td>\n",
              "    </tr>\n",
              "    <tr>\n",
              "      <th>4</th>\n",
              "      <td>1502956800000</td>\n",
              "      <td>4333.32</td>\n",
              "      <td>4377.85</td>\n",
              "      <td>4333.32</td>\n",
              "      <td>4360.69</td>\n",
              "      <td>0.972807</td>\n",
              "      <td>2017-08-17</td>\n",
              "      <td>2017-08-17 08:00</td>\n",
              "    </tr>\n",
              "  </tbody>\n",
              "</table>\n",
              "</div>"
            ],
            "text/plain": [
              "            time     open     high  ...     volume         day              hour\n",
              "0  1502942400000  4261.48  4313.62  ...  47.181009  2017-08-17  2017-08-17 04:00\n",
              "1  1502946000000  4308.83  4328.69  ...  23.234916  2017-08-17  2017-08-17 05:00\n",
              "2  1502949600000  4330.29  4345.45  ...   7.229691  2017-08-17  2017-08-17 06:00\n",
              "3  1502953200000  4316.62  4349.99  ...   4.443249  2017-08-17  2017-08-17 07:00\n",
              "4  1502956800000  4333.32  4377.85  ...   0.972807  2017-08-17  2017-08-17 08:00\n",
              "\n",
              "[5 rows x 8 columns]"
            ]
          },
          "metadata": {
            "tags": []
          },
          "execution_count": 47
        }
      ]
    },
    {
      "cell_type": "code",
      "metadata": {
        "colab": {
          "base_uri": "https://localhost:8080/"
        },
        "id": "WCF4mePedxL7",
        "outputId": "c38dc200-0244-44d7-ecee-d48828f81186"
      },
      "source": [
        "# hourly data\n",
        "st = '2019-12-02 20:00:00'\n",
        "#et = '2021-03-31 23:59:59'\n",
        "et = '2021-03-31 23:59:59'\n",
        "btc_hour1 = getData(exchange, 'BTC/USDT', '1h', st, et)\n",
        "eth_hour1 = getData(exchange, 'ETH/USDT', '1h', st, et)\n",
        "\n",
        "print( \"data shape: \", btc_hour1.shape, eth_hour1.shape)"
      ],
      "execution_count": 38,
      "outputs": [
        {
          "output_type": "stream",
          "text": [
            "data shape:  (11618, 8) (11618, 8)\n"
          ],
          "name": "stdout"
        }
      ]
    },
    {
      "cell_type": "code",
      "metadata": {
        "id": "vSxyqh08d9jM"
      },
      "source": [
        "btc_hour.to_csv('btc_hour.csv')\n",
        "eth_hour.to_csv('eth_hour.csv')"
      ],
      "execution_count": 44,
      "outputs": []
    },
    {
      "cell_type": "code",
      "metadata": {
        "id": "L74Nd3oYgYga"
      },
      "source": [
        "btc_hour1.index += 19999\n",
        "eth_hour1.index += 19999"
      ],
      "execution_count": 50,
      "outputs": []
    },
    {
      "cell_type": "code",
      "metadata": {
        "id": "ylbIBhQ9hTii"
      },
      "source": [
        "btc_hour1.index += 1\n",
        "eth_hour1.index += 1"
      ],
      "execution_count": 52,
      "outputs": []
    },
    {
      "cell_type": "code",
      "metadata": {
        "colab": {
          "base_uri": "https://localhost:8080/",
          "height": 202
        },
        "id": "ta5J4oNohQF5",
        "outputId": "129d0acb-fd24-4557-bdaa-1e8598300f93"
      },
      "source": [
        "btc_hour1.tail()\n",
        "eth_hour1.tail()"
      ],
      "execution_count": 56,
      "outputs": [
        {
          "output_type": "execute_result",
          "data": {
            "text/html": [
              "<div>\n",
              "<style scoped>\n",
              "    .dataframe tbody tr th:only-of-type {\n",
              "        vertical-align: middle;\n",
              "    }\n",
              "\n",
              "    .dataframe tbody tr th {\n",
              "        vertical-align: top;\n",
              "    }\n",
              "\n",
              "    .dataframe thead th {\n",
              "        text-align: right;\n",
              "    }\n",
              "</style>\n",
              "<table border=\"1\" class=\"dataframe\">\n",
              "  <thead>\n",
              "    <tr style=\"text-align: right;\">\n",
              "      <th></th>\n",
              "      <th>time</th>\n",
              "      <th>open</th>\n",
              "      <th>high</th>\n",
              "      <th>low</th>\n",
              "      <th>close</th>\n",
              "      <th>volume</th>\n",
              "      <th>day</th>\n",
              "      <th>hour</th>\n",
              "    </tr>\n",
              "  </thead>\n",
              "  <tbody>\n",
              "    <tr>\n",
              "      <th>31613</th>\n",
              "      <td>1617217200000</td>\n",
              "      <td>1891.90</td>\n",
              "      <td>1917.77</td>\n",
              "      <td>1891.73</td>\n",
              "      <td>1900.63</td>\n",
              "      <td>68418.66609</td>\n",
              "      <td>2021-03-31</td>\n",
              "      <td>2021-03-31 19:00</td>\n",
              "    </tr>\n",
              "    <tr>\n",
              "      <th>31614</th>\n",
              "      <td>1617220800000</td>\n",
              "      <td>1900.63</td>\n",
              "      <td>1940.00</td>\n",
              "      <td>1891.92</td>\n",
              "      <td>1939.07</td>\n",
              "      <td>64382.45547</td>\n",
              "      <td>2021-03-31</td>\n",
              "      <td>2021-03-31 20:00</td>\n",
              "    </tr>\n",
              "    <tr>\n",
              "      <th>31615</th>\n",
              "      <td>1617224400000</td>\n",
              "      <td>1939.11</td>\n",
              "      <td>1947.29</td>\n",
              "      <td>1923.86</td>\n",
              "      <td>1929.99</td>\n",
              "      <td>35865.19137</td>\n",
              "      <td>2021-03-31</td>\n",
              "      <td>2021-03-31 21:00</td>\n",
              "    </tr>\n",
              "    <tr>\n",
              "      <th>31616</th>\n",
              "      <td>1617228000000</td>\n",
              "      <td>1930.00</td>\n",
              "      <td>1936.53</td>\n",
              "      <td>1903.34</td>\n",
              "      <td>1903.97</td>\n",
              "      <td>35335.71451</td>\n",
              "      <td>2021-03-31</td>\n",
              "      <td>2021-03-31 22:00</td>\n",
              "    </tr>\n",
              "    <tr>\n",
              "      <th>31617</th>\n",
              "      <td>1617231600000</td>\n",
              "      <td>1903.97</td>\n",
              "      <td>1924.21</td>\n",
              "      <td>1901.62</td>\n",
              "      <td>1919.37</td>\n",
              "      <td>21224.77764</td>\n",
              "      <td>2021-03-31</td>\n",
              "      <td>2021-03-31 23:00</td>\n",
              "    </tr>\n",
              "  </tbody>\n",
              "</table>\n",
              "</div>"
            ],
            "text/plain": [
              "                time     open  ...         day              hour\n",
              "31613  1617217200000  1891.90  ...  2021-03-31  2021-03-31 19:00\n",
              "31614  1617220800000  1900.63  ...  2021-03-31  2021-03-31 20:00\n",
              "31615  1617224400000  1939.11  ...  2021-03-31  2021-03-31 21:00\n",
              "31616  1617228000000  1930.00  ...  2021-03-31  2021-03-31 22:00\n",
              "31617  1617231600000  1903.97  ...  2021-03-31  2021-03-31 23:00\n",
              "\n",
              "[5 rows x 8 columns]"
            ]
          },
          "metadata": {
            "tags": []
          },
          "execution_count": 56
        }
      ]
    },
    {
      "cell_type": "code",
      "metadata": {
        "id": "ZGoeTvZzer4d"
      },
      "source": [
        "btc_hour1.to_csv('btc_hour.csv', mode='a', header=False)\n",
        "eth_hour1.to_csv('eth_hour.csv', mode='a', header=False)"
      ],
      "execution_count": 57,
      "outputs": []
    },
    {
      "cell_type": "code",
      "metadata": {
        "id": "Gufr1xxCZYNr"
      },
      "source": [
        "btc_day.to_csv('btc_day.csv')\n",
        "eth_day.to_csv('eth_day.csv')"
      ],
      "execution_count": 13,
      "outputs": []
    },
    {
      "cell_type": "code",
      "metadata": {
        "colab": {
          "base_uri": "https://localhost:8080/"
        },
        "id": "vPADbmG0i52x",
        "outputId": "47360b01-d391-4acf-f73b-38dc7b0cb2fb"
      },
      "source": [
        "# minutely\n",
        "st = '2017-08-17 00:00:00'\n",
        "#et = '2021-03-31 23:59:59'\n",
        "et = '2018-03-31 23:59:59'\n",
        "\n",
        "btc_hour1 = getData(exchange, 'BTC/USDT', '1m', st, et)\n",
        "eth_hour1 = getData(exchange, 'ETH/USDT', '1m', st, et)\n",
        "\n",
        "\n",
        "\n",
        "print( \"data shape: \", btc_hour1.shape, eth_hour1.shape)"
      ],
      "execution_count": 61,
      "outputs": [
        {
          "output_type": "stream",
          "text": [
            "data shape:  (20000, 8) (20000, 8)\n"
          ],
          "name": "stdout"
        }
      ]
    },
    {
      "cell_type": "code",
      "metadata": {
        "colab": {
          "base_uri": "https://localhost:8080/",
          "height": 202
        },
        "id": "YP46pbztzAgz",
        "outputId": "a502a1bb-bd17-4e43-d2f4-20f990de3178"
      },
      "source": [
        "btc_hour1.tail()"
      ],
      "execution_count": 63,
      "outputs": [
        {
          "output_type": "execute_result",
          "data": {
            "text/html": [
              "<div>\n",
              "<style scoped>\n",
              "    .dataframe tbody tr th:only-of-type {\n",
              "        vertical-align: middle;\n",
              "    }\n",
              "\n",
              "    .dataframe tbody tr th {\n",
              "        vertical-align: top;\n",
              "    }\n",
              "\n",
              "    .dataframe thead th {\n",
              "        text-align: right;\n",
              "    }\n",
              "</style>\n",
              "<table border=\"1\" class=\"dataframe\">\n",
              "  <thead>\n",
              "    <tr style=\"text-align: right;\">\n",
              "      <th></th>\n",
              "      <th>time</th>\n",
              "      <th>open</th>\n",
              "      <th>high</th>\n",
              "      <th>low</th>\n",
              "      <th>close</th>\n",
              "      <th>volume</th>\n",
              "      <th>day</th>\n",
              "      <th>hour</th>\n",
              "    </tr>\n",
              "  </thead>\n",
              "  <tbody>\n",
              "    <tr>\n",
              "      <th>19995</th>\n",
              "      <td>1504142100000</td>\n",
              "      <td>4570.65</td>\n",
              "      <td>4570.65</td>\n",
              "      <td>4570.65</td>\n",
              "      <td>4570.65</td>\n",
              "      <td>0.0</td>\n",
              "      <td>2017-08-31</td>\n",
              "      <td>2017-08-31 01:15</td>\n",
              "    </tr>\n",
              "    <tr>\n",
              "      <th>19996</th>\n",
              "      <td>1504142160000</td>\n",
              "      <td>4570.65</td>\n",
              "      <td>4570.65</td>\n",
              "      <td>4570.65</td>\n",
              "      <td>4570.65</td>\n",
              "      <td>0.0</td>\n",
              "      <td>2017-08-31</td>\n",
              "      <td>2017-08-31 01:16</td>\n",
              "    </tr>\n",
              "    <tr>\n",
              "      <th>19997</th>\n",
              "      <td>1504142220000</td>\n",
              "      <td>4570.65</td>\n",
              "      <td>4570.65</td>\n",
              "      <td>4570.65</td>\n",
              "      <td>4570.65</td>\n",
              "      <td>0.0</td>\n",
              "      <td>2017-08-31</td>\n",
              "      <td>2017-08-31 01:17</td>\n",
              "    </tr>\n",
              "    <tr>\n",
              "      <th>19998</th>\n",
              "      <td>1504142280000</td>\n",
              "      <td>4570.65</td>\n",
              "      <td>4570.65</td>\n",
              "      <td>4570.65</td>\n",
              "      <td>4570.65</td>\n",
              "      <td>0.0</td>\n",
              "      <td>2017-08-31</td>\n",
              "      <td>2017-08-31 01:18</td>\n",
              "    </tr>\n",
              "    <tr>\n",
              "      <th>19999</th>\n",
              "      <td>1504142340000</td>\n",
              "      <td>4570.65</td>\n",
              "      <td>4570.65</td>\n",
              "      <td>4570.65</td>\n",
              "      <td>4570.65</td>\n",
              "      <td>0.0</td>\n",
              "      <td>2017-08-31</td>\n",
              "      <td>2017-08-31 01:19</td>\n",
              "    </tr>\n",
              "  </tbody>\n",
              "</table>\n",
              "</div>"
            ],
            "text/plain": [
              "                time     open     high  ...  volume         day              hour\n",
              "19995  1504142100000  4570.65  4570.65  ...     0.0  2017-08-31  2017-08-31 01:15\n",
              "19996  1504142160000  4570.65  4570.65  ...     0.0  2017-08-31  2017-08-31 01:16\n",
              "19997  1504142220000  4570.65  4570.65  ...     0.0  2017-08-31  2017-08-31 01:17\n",
              "19998  1504142280000  4570.65  4570.65  ...     0.0  2017-08-31  2017-08-31 01:18\n",
              "19999  1504142340000  4570.65  4570.65  ...     0.0  2017-08-31  2017-08-31 01:19\n",
              "\n",
              "[5 rows x 8 columns]"
            ]
          },
          "metadata": {
            "tags": []
          },
          "execution_count": 63
        }
      ]
    }
  ]
}